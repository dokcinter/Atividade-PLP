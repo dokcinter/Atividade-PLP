{
  "nbformat": 4,
  "nbformat_minor": 0,
  "metadata": {
    "colab": {
      "provenance": [],
      "collapsed_sections": [],
      "authorship_tag": "ABX9TyNkx1IcfoN4wkaUWm03Suib",
      "include_colab_link": true
    },
    "kernelspec": {
      "name": "python3",
      "display_name": "Python 3"
    },
    "language_info": {
      "name": "python"
    }
  },
  "cells": [
    {
      "cell_type": "markdown",
      "metadata": {
        "id": "view-in-github",
        "colab_type": "text"
      },
      "source": [
        "<a href=\"https://colab.research.google.com/github/dokcinter/Atividade-PLP/blob/main/Atividade_plp_EDUARDOBARBOSA_202208699944.ipynb\" target=\"_parent\"><img src=\"https://colab.research.google.com/assets/colab-badge.svg\" alt=\"Open In Colab\"/></a>"
      ]
    },
    {
      "cell_type": "code",
      "execution_count": null,
      "metadata": {
        "id": "zuZGioKOTaxw"
      },
      "outputs": [],
      "source": [
        "# 1º QUESTÃO - Faça um Programa que mostre a mensagem \"Alunos - PLP Unifavip 2022.2\" na tela.#\n",
        "\n",
        "print(\"Alunos - PLP Univafip 2022.2\")"
      ]
    },
    {
      "cell_type": "code",
      "source": [
        "# 2º QUESTÃO - Faça um Programa que peça um número e então mostre a mensagem O número informado foi [número] #\n",
        "numero=int(input(\"Digite um número\"))\n",
        "print('o número informado foi: %d'%numero) \n",
        "\n"
      ],
      "metadata": {
        "id": "KPuufYk1Udlw"
      },
      "execution_count": null,
      "outputs": []
    },
    {
      "cell_type": "code",
      "source": [
        "# 3º QUESTÃO - Faça um Programa que peça dois números e mostre como resultado a soma.\n",
        "\n",
        "n1=int(input(\"Digite um número: \"))\n",
        "n2=int(input(\"Digite outro número: \"))\n",
        "soma= n1 + n2\n",
        "print(\"O resultado é: %d \"%soma)"
      ],
      "metadata": {
        "id": "NR-o3uV8Ye2S"
      },
      "execution_count": null,
      "outputs": []
    },
    {
      "cell_type": "code",
      "source": [
        "# 4º QUESTÃO - Faça um Programa que peça as 4 notas bimestrais e mostre a média.\n",
        "\n",
        "n1=float(input(\"Digite sua nota do 1º bimestre: \"))\n",
        "n2=float(input(\"Digite sua nota do 2º bimestre: \"))\n",
        "n3=float(input(\"Digite sua nota do 3º bimestre: \"))\n",
        "n4=float(input(\"Digite sua nota do 4º bimestre: \"))\n",
        "\n",
        "media= (n1 + n2 + n3 + n4) / 4\n",
        "\n",
        "print(\" Sua média é:\",media)"
      ],
      "metadata": {
        "id": "WlJuON6cb4Sz"
      },
      "execution_count": null,
      "outputs": []
    },
    {
      "cell_type": "code",
      "source": [
        "# 5º QUESTÃO - Faça um Programa que converta metros para centímetros\n",
        "\n",
        "cm=int(input(\"Digite o comprimento em Metro \"))\n",
        "\n",
        "calculo= (cm * 100)\n",
        "\n",
        "\n",
        "print(\"A conversão em centimetros fica: %d cm\"%calculo)"
      ],
      "metadata": {
        "id": "awBFt6o1fmg1"
      },
      "execution_count": null,
      "outputs": []
    },
    {
      "cell_type": "code",
      "source": [
        "# 6º QUESTÃO - Faça um Programa que peça o raio de um círculo, calcule e mostre sua área.\n",
        "\n",
        "raio=int(input(\"Digite o valor do raio: \"))\n",
        "\n",
        "raio_quadrado=(raio * raio)\n",
        "area=(3.14 * raio_quadrado)\n",
        "\n",
        "print(\"Área igual a:\",area)"
      ],
      "metadata": {
        "id": "GZaQsnyJhccm"
      },
      "execution_count": null,
      "outputs": []
    },
    {
      "cell_type": "code",
      "source": [
        "# 7º QUESTÃO - Faça um Programa que calcule a área de um quadrado, em seguida mostre o dobro desta área para o usuário.\n",
        "\n",
        "l=int(input(\"Digite o comprimento do lado do quadrado: \"))\n",
        "\n",
        "area=(l * l)\n",
        "dobro=(l * 2)\n",
        "\n",
        "print(\"A área do quadrado é:\",area)\n",
        "print(\"E o dobro da área é:\",dobro)\n"
      ],
      "metadata": {
        "id": "WNdjRQB8kO64"
      },
      "execution_count": null,
      "outputs": []
    },
    {
      "cell_type": "code",
      "source": [
        "# 8º QUESTÃO - Faça um Programa que pergunte quanto você ganha por hora e o número de horas trabalhadas no \n",
        "# mês. Calcule e mostre o total do seu salário no referido mês.\n",
        "\n",
        "salario=float(input(\"Qual seu salário por hora ? \"))\n",
        "tempo=int(input(\"Qual número de horas você trabalhou no mês ? \"))\n",
        "\n",
        "ganhou=(tempo) * (salario)\n",
        "\n",
        "print(\"Você recebe nesse mês um total de R$\",ganhou)"
      ],
      "metadata": {
        "id": "GRu9otK8msqY"
      },
      "execution_count": null,
      "outputs": []
    },
    {
      "cell_type": "code",
      "source": [
        "# 9º QUESTÃO - Faça um Programa que peça a temperatura em graus Fahrenheit, transforme e mostre a temperatura em graus Celsius.\n",
        "\n",
        "tempf=float(input(\"Qual temperatura em Fahrenheit ? \"))\n",
        "\n",
        "calculo1= (tempf - 32)/9\n",
        "calculo2= (5 * calculo1)\n",
        "\n",
        "print(\"Temperatura em celsius será:\",calculo2,\"C°\")\n"
      ],
      "metadata": {
        "id": "a3LiUz5TqcSh"
      },
      "execution_count": null,
      "outputs": []
    },
    {
      "cell_type": "code",
      "source": [
        "# 10º QUESTÃO - Faça um Programa que peça a temperatura em graus Celsius, transforme e mostre em graus Fahrenheit.\n",
        "\n",
        "tempc=float(input(\"Qual temperatura em Celsius ? \"))\n",
        "\n",
        "calculo1=(tempc * 9)/5\n",
        "calculo2=(calculo1 + 32)\n",
        "\n",
        "print(\"Temperatura em Fahrenheit será:\",calculo2,\"F°\")\n"
      ],
      "metadata": {
        "id": "4Fn8HdusIRgV"
      },
      "execution_count": null,
      "outputs": []
    },
    {
      "cell_type": "code",
      "source": [
        "# 11º QUESTÃO - Faça um Programa que peça 2 números inteiros e um número real. Calcule e mostre:\n",
        "# a. o produto do dobro do primeiro com metade do segundo.\n",
        "# b. a soma do triplo do primeiro com o terceiro.\n",
        "# c. o terceiro elevado ao cubo.\n",
        "\n",
        "int1=int(input(\"Digite um número inteiro: \"))\n",
        "int2=int(input(\"Digite um número inteiro: \"))\n",
        "real1=float(input(\"Digite um número real: \"))\n",
        "\n",
        "calculo_a= (int1 * 2) + (int2 / 2)\n",
        "calculo_b= (int1 * 3) + (real1 * 3)\n",
        "calculo_c= (real1 ** 3)\n",
        "\n",
        "print(calculo_a)\n",
        "print(calculo_b)\n",
        "print(calculo_c)"
      ],
      "metadata": {
        "id": "YRBRpayOKa8d"
      },
      "execution_count": null,
      "outputs": []
    },
    {
      "cell_type": "code",
      "source": [
        "# 12º QUESTÃO - Tendo como dados de entrada a altura de uma pessoa, construa um programa que calcule seu peso ideal, usando a seguinte fórmula: (72.7*altura) - 58\n",
        "\n",
        "h=float(input(\"Digite sua altura: \"))\n",
        "\n",
        "calculo= (72.7 * h) - 58\n",
        "\n",
        "print(\"Seu peso ideal é:\",calculo,\"Kg\")"
      ],
      "metadata": {
        "id": "SA8UvMdCMTtd"
      },
      "execution_count": null,
      "outputs": []
    },
    {
      "cell_type": "code",
      "source": [
        "# 13º QUESTÃO - Tendo como dado de entrada a altura (h) de uma pessoa, construa um algoritmo que calcule seu peso ideal, utilizando as seguintes fórmulas:\n",
        "# a. Para homens: (72.7*h) - 58\n",
        "# b. Para mulheres: (62.1*h) - 44.7\n",
        "\n",
        "h=float(input(\"Digite sua altura: \"))\n",
        "s=str(input(\"Se você for homem digite: 'M', já se você for mulher digite: 'F' \"))\n",
        "\n",
        "calculo_m= (72.7 * h) - 58\n",
        "calculo_f= (62.1 * h) - 44.7\n",
        "\n",
        "if s == \"M\":\n",
        "  print(\"Seu peso ideal é: \",calculo_m,\"Kg\")\n",
        "else:\n",
        "  print(\"Seu peso ideal é: \",calculo_f,\"Kg\")"
      ],
      "metadata": {
        "id": "US74H07-Npd-"
      },
      "execution_count": null,
      "outputs": []
    },
    {
      "cell_type": "code",
      "source": [
        "# 14º QUESTÃO - João Papo-de-Pescador, homem de bem, comprou um computador para controlar o rendimento\n",
        "# diário de seu trabalho. Toda vez que ele traz um peso de peixes maior que o estabelecido pelo\n",
        "# regulamento de pesca do estado de São Paulo (50 quilos) deve pagar uma multa de R$ 4,00 por\n",
        "# quilo excedente. João precisa que você faça um programa que leia a variável peso (peso de peixes)\n",
        "# e calcule o excesso. Gravar na variável excesso a quantidade de quilos além do limite e na\n",
        "# variável multa o valor da multa que João deverá pagar. Imprima os dados do programa com as\n",
        "# mensagens adequadas.\n",
        "\n",
        "kg=int(input(\"Digite o peso total da pesca : \"))\n",
        "\n",
        "excesso= kg - 50\n",
        "multa= excesso * 4\n",
        "\n",
        "if (kg > 50):\n",
        "  print(\"Kg excedente :\",excesso,\"Kg\")\n",
        "  print(\"Valor total : R$\",multa)\n",
        "else:\n",
        "  print(\"Valor total : R$ 50,00\")"
      ],
      "metadata": {
        "id": "-Y2xgw0WT8-J"
      },
      "execution_count": null,
      "outputs": []
    },
    {
      "cell_type": "code",
      "source": [
        "# 15º QUESSTÃO - Faça um Programa que pergunte quanto você ganha por hora e o número de horas trabalhadas\n",
        "# no mês. Calcule e mostre o total do seu salário no referido mês, sabendo-se que são descontados\n",
        "# 11% para o Imposto de Renda, 8% para o INSS e 5% para o sindicato, faça um programa que nos dê:\n",
        "\n",
        "# a. salário bruto.\n",
        "# b. quanto pagou ao INSS.\n",
        "# c. quanto pagou ao sindicato.\n",
        "# d. o salário líquido.\n",
        "# e. calcule os descontos e o salário líquido, conforme a tabela abaixo\n",
        "\n",
        "ganho=float(input(\"Qual seu salário por hora ? \"))\n",
        "horas=int(input(\"Quantas horas você trabalhou no mês ? \"))\n",
        "\n",
        "bruto=(ganho * horas)\n",
        "\n",
        "ir1= (bruto * 0.11)\n",
        "\n",
        "sindicato1= (bruto * 0.05 )\n",
        "\n",
        "inss1= (bruto * 0.08)\n",
        "\n",
        "salarioliq= (bruto) - (ir1 + sindicato1 + inss1)\n",
        "\n",
        "print(\"Seu salário bruto é de : R$\",bruto)\n",
        "print(\"Você pagou ao INSS um valor de : R$\",inss1)\n",
        "print(\"Você pagou ao sindicato um valor de : R$\",sindicato1)\n",
        "print(\"Seu salário liquido é de : R$\",salarioliq)"
      ],
      "metadata": {
        "id": "DO2Fy4sWKdwR"
      },
      "execution_count": null,
      "outputs": []
    },
    {
      "cell_type": "code",
      "source": [
        "# 16º QUESTÃO - Faça um programa para uma loja de tintas. O programa deverá pedir o tamanho em metros\n",
        "# quadrados da área a ser pintada. Considere que a cobertura da tinta é de 1 litro para cada 3 metros\n",
        "# quadrados e que a tinta é vendida em latas de 18 litros, que custam R$ 80,00. Informe ao usuário a\n",
        "# quantidades de latas de tinta a serem compradas e o preço total.\n",
        "\n",
        "tamanho=float(input(\"Qual o tamanho da área ? \"))\n",
        "\n",
        "litros= tamanho / 3 #quantidade de litros que vai ser usado\n",
        "\n",
        "lata = 0\n",
        "nlata = 0\n",
        "\n",
        "while lata < litros:\n",
        "  lata += 18\n",
        "  nlata += 1 \n",
        "\n",
        "else:\n",
        "  print(\"A quantidade de latas necessárias será:\",nlata,)\n",
        "  total= nlata * 80\n",
        "  print(\"O total a se pagar será: R$\",total)"
      ],
      "metadata": {
        "id": "UYnohJhoQygQ"
      },
      "execution_count": null,
      "outputs": []
    },
    {
      "cell_type": "code",
      "source": [
        "# 17º QUESTÃO - Faça um Programa para uma loja de tintas. O programa deverá pedir o tamanho em metros\n",
        "# quadrados da área a ser pintada. Considere que a cobertura da tinta é de 1 litro para cada 6 metros\n",
        "# quadrados e que a tinta é vendida em latas de 18 litros, que custam R$ 80,00 ou em galões de 3,6\n",
        "# litros, que custam R$ 25,00.\n",
        "# informe ao usuário as quantidades de tinta a serem compradas e os respectivos preços em 3\n",
        "# situações:\n",
        "#   • comprar apenas latas de 18 litros;\n",
        "#   • comprar apenas galões de 3,6 litros;\n",
        "#   • misturar latas e galões, de forma que o desperdício de tinta seja menor.\n",
        "# Acrescente 10% de folga e sempre arredonde os valores para cima, isto é, considere latas cheias.\n",
        "\n",
        "tamanho=float(input(\"Qual o tamanho da área ? \"))\n",
        "\n",
        "litros= tamanho / 6 #quantidade de litros que vai ser usado\n",
        "\n",
        "print(\"A quantidade de litros necessário será :\",litros)\n",
        "\n",
        "lata= 0\n",
        "galão= 0\n",
        "nlata= 0\n",
        "ngalão= 0\n",
        "\n",
        "\n",
        "while lata < litros:\n",
        "  lata += 18\n",
        "  nlata += 1\n",
        "    \n",
        "  total= nlata * 80\n",
        "\n",
        "else:\n",
        "   print(\"Comprando em latas terá um gasto de : R$\",total)\n",
        "\n",
        "\n",
        "while galão < litros:\n",
        "  galão += 3.6\n",
        "  ngalão += 1\n",
        "  \n",
        "  totalg= ngalão * 25\n",
        "\n",
        "else:\n",
        "  print(\"Comprando em galão terá um gasto de : R$\",totalg)\n",
        "\n",
        "\n",
        "lata1= 0\n",
        "galao1= 0\n",
        "consumo= 0\n",
        "nlata1= 0\n",
        "ngalao1= 0\n",
        "\n",
        "while consumo < litros:\n",
        "  lata1 += 18\n",
        "  nlata1 += 1\n",
        "\n",
        "\n",
        "  galao1 += 3.6\n",
        "  ngalao1 += 1\n",
        "\n",
        " \n",
        "  consumo = lata1 + galao1\n",
        "  totalgl= (nlata1 * 80) + (ngalao1 * 25)\n",
        "\n",
        "else:\n",
        "  print(\"Misturando galão e balde, terá um gasto de : R$\",totalgl)"
      ],
      "metadata": {
        "id": "sBlzAF9SqTAz"
      },
      "execution_count": null,
      "outputs": []
    },
    {
      "cell_type": "code",
      "source": [
        "# 18º QUESTÃO - Faça um programa que peça o tamanho de um arquivo para download (em MB) e a velocidade de\n",
        "# um link de Internet (em Mbps), calcule e informe o tempo aproximado de download do arquivo usando\n",
        "# este link (em minutos)\n",
        "\n",
        "tamanho=float(input(\"Qual o tamanho do arquivo(MB) ? \"))\n",
        "velocidade=float(input(\"Qual a sua velocidade de internet(Mbps) ? \"))\n",
        "\n",
        "if velocidade > tamanho:\n",
        "  print(\"Seu dowload terá duração de menos de 1 minuto\")\n",
        "\n",
        "duração= tamanho / velocidade\n",
        "tempo= duração / 60\n",
        "\n",
        "if velocidade < tamanho and tempo < 1.0:\n",
        "  print(\"Seu dowload terá duração de menos de 1 minuto\",tempo,\"min\")\n",
        "\n",
        "else:\n",
        "  print(\"Seu dowload terá duração de aproximadamente\",tempo,\"min\")"
      ],
      "metadata": {
        "id": "kNBHOEG_PQSb"
      },
      "execution_count": null,
      "outputs": []
    },
    {
      "cell_type": "code",
      "source": [
        "# 19º QUESTÃO - Crie um programa para preencher um vetor (lista) com números inteiros e solicitar um número do\n",
        "# teclado. Pesquisar se esse número existe no vetor. Se existir, imprimir em qual posição do vetor (lista)\n",
        "# foi digitado. Se não existir, imprimir mensagem que não existe.\n",
        "\n",
        "lista=[]\n",
        "qtd=3\n",
        "n=0\n",
        "\n",
        "for i in range (qtd):\n",
        "  n=n + 1\n",
        "  numero=int(input(\"Digite o %dº número\"%n))\n",
        "  lista.append(numero)\n",
        "\n",
        "num=int(input(\"Digite um número do seu teclado para pesquisar na lista de números digitados ateriormente \"))\n",
        "\n",
        "\n",
        "if num in lista:\n",
        "  print(\"O número está na posição:\",lista.index(num))\n",
        "\n",
        "else:\n",
        "  print(\"Número digitado não existe na lista\")"
      ],
      "metadata": {
        "id": "Xn-2eZy0VMkA"
      },
      "execution_count": null,
      "outputs": []
    },
    {
      "cell_type": "code",
      "source": [
        "# 20º QUESTÃO - Faça um programa que exiba na tela a quantidade de acertos de cada aluno em uma prova, e\n",
        "# caso a nota seja igual ou maior que 60% da quantidade de questões exiba “Classificado”, se não\n",
        "# “Desclassificado”. Para isso crie uma TUPLA que receba o cartão gabarito com as 20 questões, cada\n",
        "# uma com cinco alternativas identificadas por A, B, C, D e E., Depois crie uma lista para cada Aluno e\n",
        "# receba as 20 questões da prova dele e diga se o aluno está Classificado ou Desclassificado. Ao final,\n",
        "# pergunte se o usuário deseja cadastrar outro aluno ou finalizar o programa.\n",
        "\n",
        "qtd=20\n",
        "gabaritoaluno=[]\n",
        "q=0\n",
        "posição=0\n",
        "gabarito=['k','A','B','C','D','A','B','C','D','A','B','C','D','A','B','C','D','A','B','C','D']\n",
        "\n",
        "novocadastro=str(input(\"Deseja cadastrar um aluno?\")) \n",
        "\n",
        "while novocadastro == \"sim\" or \"finalizar programa\" or \"cadastrar mais um aluno\":\n",
        "\n",
        "  for i in range (qtd):\n",
        "    q= q + 1\n",
        "    posição= posição + 1\n",
        "    questões=str(input(\"Digite a resposta da %dº questão\"%q))\n",
        "    if questões == gabarito[posição]:\n",
        "        gabaritoaluno.append(\"CORRETO\")\n",
        "        \n",
        "\n",
        "  if gabaritoaluno.count(\"CORRETO\") >= 12:\n",
        "    print(\"CLASSIFICADO\")\n",
        "  else:\n",
        "    print(\"ALUNO DESCLASSIFICADO\")\n",
        "  novocadastro=str(input(\"Deseja cadastrar mais um aluno ou finalizar programa?\"))\n",
        "  qtd=20\n",
        "  gabaritoaluno=[]\n",
        "  q=0\n",
        "  posição=0"
      ],
      "metadata": {
        "id": "h24I9MYOkGfv"
      },
      "execution_count": null,
      "outputs": []
    },
    {
      "cell_type": "code",
      "source": [
        "\n",
        "# 21º QUESTÃO - Faça um programa que peça do usuário o nome de 6 cidades, depois de inseridas verifique se há\n",
        "# nomes iguais e havendo peça para que sejam inseridos novamente, e também crie a opção do usuário\n",
        "# concatenar dados ao nome da cidade. E por fim, exiba qual o nome de cidade mais extenso.\n",
        "\n",
        "\n",
        "cidades=[]\n",
        "qtd=6\n",
        "y=0\n",
        "\n",
        "for i in range (6):\n",
        "    y= y + 1\n",
        "    city=str(input(\"Digite o nome da %dº cidade\"%y))\n",
        "    cidades.append(city)\n",
        "    if cidades.count(city) > 1:\n",
        "        print(\"cidade repetida, digite todas cidades novamente. Sem repetir\")\n",
        "        break \n",
        "maiorcidade=max(cidades, key=len)\n",
        "\n",
        "infadd=input(\"Deseja adicionar alguma informação à alguma cidade ?\")\n",
        "while infadd == \"sim\":\n",
        "    cityinf=str(input(\"Qual cidade você deseja adicionar a informação?\"))\n",
        "    p=cidades.index(cityinf)\n",
        "    informação=str(input(\"Qual informação você deseja adicionar ?\"))\n",
        "    cidades[p]=(cityinf+\" \"+informação)\n",
        "    infadd= str(input(\"Deseja adicionar mais alguma informação a outra cidade?\"))\n",
        "\n",
        "    print(cidades)\n",
        "\n",
        "print(\"O nome de cidade mais extenso é\",maiorcidade)\n",
        "\n"
      ],
      "metadata": {
        "id": "NDaBdKmfW05m"
      },
      "execution_count": null,
      "outputs": []
    },
    {
      "cell_type": "code",
      "source": [
        "# 22º QUESTÃO - Faça um Programa que verifique se uma letra digitada é vogal ou consoante.\n",
        "\n",
        "#if l == 'a' or l=='e' or l== 'i' or l== 'o' or l=='u':#\n",
        "\n",
        "l=str(input(\"Digite uma letra:\"))\n",
        "\n",
        "if l == 'a' or l=='e' or l== 'i' or l== 'o' or l=='u':\n",
        "  print(\"É uma vogal\")\n",
        "else:\n",
        "  print(\"é uma consoante\")\n"
      ],
      "metadata": {
        "id": "BNtOZL-0x5wi"
      },
      "execution_count": null,
      "outputs": []
    },
    {
      "cell_type": "code",
      "source": [
        "# 23º QUESTÃO -Faça um programa para a leitura de duas notas parciais de um aluno. \n",
        "# O programa deve calcular a média alcançada por aluno e apresentar:\n",
        "# • A mensagem \"Aprovado\", se a média alcançada for maior ou igual a sete;\n",
        "# • A mensagem \"Reprovado\", se a média for menor do que sete;\n",
        "# • A mensagem \"Aprovado com Distinção\", se a média for igual a dez.\n",
        "\n",
        "n1=float(input(\"Digite sua primeira nota: \"))\n",
        "n2=float(input(\"Digite sua segunda nota: \"))\n",
        "\n",
        "media= (n1 + n2) / 2\n",
        "\n",
        "if media >= 7.0 and media < 10.0:\n",
        "  print(\"Aprovado\")\n",
        "\n",
        "if media < 7.0:\n",
        "  print(\"Reprovado\")\n",
        "\n",
        "if media == 10.0:\n",
        "  print(\"Aprovado com distinção\")\n",
        "\n",
        "\n"
      ],
      "metadata": {
        "id": "AkHHZLNOWq84"
      },
      "execution_count": null,
      "outputs": []
    },
    {
      "cell_type": "code",
      "source": [
        "# 24º QUESTÃO - Faça um Programa que leia três palavras e mostre a maior palavra entre eles, além de apresentar\n",
        "# quantos caracteres tem na palavra.\n",
        "\n",
        "palavras=[]\n",
        "qtd=3\n",
        "p=0\n",
        "\n",
        "for i in range (qtd):\n",
        "  p= p+1\n",
        "  palavra=str(input(\"Digite a %dº palavra\"%p))\n",
        "  palavras.append(palavra)\n",
        "  \n",
        "maior=max(palavras, key=len)\n",
        "caracteres=len(maior)\n",
        "print(\"A maior palavra é\",maior,\"com\",caracteres,\"caracteres\")"
      ],
      "metadata": {
        "id": "lNH5vJ0m39Ry"
      },
      "execution_count": null,
      "outputs": []
    },
    {
      "cell_type": "code",
      "source": [
        "# 25º QUESTÃO - Faça um Programa que leia três números e mostre o maior e o menor deles.\n",
        "\n",
        "print(\"Digite três números diferentes\")\n",
        "\n",
        "a=float(input(\"Digite o primeiro: \"))\n",
        "b=float(input(\"Digite o segundo: \"))\n",
        "c=float(input(\"Digite o terceiro: \"))\n",
        "\n",
        "maior = a\n",
        "if b > a and b > c:\n",
        "    maior = b\n",
        "if c > a and c > b:\n",
        "    maior = c\n",
        "menor = a\n",
        "if b < c and b < a:\n",
        "    menor = b\n",
        "if c < b and c < a:\n",
        "    menor = c\n",
        "\n",
        "print(f\"O menor número digitado foi {menor}\")\n",
        "print(f\"O maior número digitado foi {maior}\")\n"
      ],
      "metadata": {
        "id": "sHFc8gn_uGDU"
      },
      "execution_count": null,
      "outputs": []
    },
    {
      "cell_type": "code",
      "source": [
        "# 26º QUESTÃO - Faça um programa que pergunte o preço de três produtos e informe qual produto você deve\n",
        "# comprar, sabendo que a decisão é sempre pelo mais barato.\n",
        "\n",
        "p1=float(input(\"Qual o preço do primeiro produto: \"))\n",
        "p2=float(input(\"Qual o preço do segundo produto: \"))\n",
        "p3=float(input(\"Qual o preço do terceiro produto: \"))\n",
        "\n",
        "if p1 < p2 and p1 < p3:\n",
        "  print(\"Você deve comprar o primeiro produto\")\n",
        "if p2 < p1 and p2 < p3:\n",
        "  print(\"Você deve comprar o segundo produto\")\n",
        "if p3 < p1 and p3 < p2:\n",
        "  print(\"Você deve comprar o terceiro produto\")\n",
        "\n"
      ],
      "metadata": {
        "id": "d3oQ_J-2OclO"
      },
      "execution_count": null,
      "outputs": []
    },
    {
      "cell_type": "code",
      "source": [
        "# 27º QUESTÃO - Faça um Programa que leia três números e mostre-os em ordem decrescente.\n",
        "\n",
        "lista = []\n",
        "qtd = 3\n",
        "for i in range(qtd):\n",
        "    elemento = int(input('Digite um numero: '))\n",
        "    lista.append(elemento)\n",
        "\n",
        "lista.sort(reverse = True) \n",
        "print(lista)"
      ],
      "metadata": {
        "id": "oxX8zIPNZ-cR"
      },
      "execution_count": null,
      "outputs": []
    },
    {
      "cell_type": "code",
      "source": [
        "# 28º QUESTÃO - Faça um Programa que pergunte em que turno você estuda. Peça para digitar M-matutino ou V-\n",
        "# Vespertino ou N- Noturno. Imprima a mensagem \"Bom Dia!\", \"Boa Tarde!\" ou \"Boa Noite!\" ou \"Valor\n",
        "# Inválido!\", conforme o caso.\n",
        "\n",
        "\n",
        "turno= str(input(\"Digite em qual turno você estuda de acordo com seu horário('M' para matutino, 'V' para vespertino e 'N' para noturno): \"))\n",
        "\n",
        "if turno == \"M\":\n",
        "  print(\"Bom dia!\")\n",
        "if turno == \"V\":\n",
        "  print(\"Boa tarde!\")\n",
        "if turno == \"N\":\n",
        "  print(\"Boa noite!\")\n",
        "\n"
      ],
      "metadata": {
        "id": "vXYRm5PXR1IN"
      },
      "execution_count": null,
      "outputs": []
    },
    {
      "cell_type": "code",
      "source": [
        "# 29º - QUESTÃO As Organizações PLP LTDAresolveram dar um aumento de salário aos seus colaboradores e lhe\n",
        "# contraram para desenvolver o programa que calculará os reajustes. O reajuste acontecerá segundo o\n",
        "# seguinte critério, baseado no salário atual:\n",
        "\n",
        "# salários até R$ 280,00 (incluindo) : aumento de 20%\n",
        "# • salários entre R$ 280,00 e R$ 700,00 : aumento de 15%\n",
        "# • salários entre R$ 700,00 e R$ 1500,00 : aumento de 10%\n",
        "# • salários de R$ 1500,00 em diante : aumento de 5% Após o aumento ser realizado, informe na\n",
        "# tela:\n",
        "# • o salário antes do reajuste;\n",
        "# • o percentual de aumento aplicado;\n",
        "# • o valor do aumento;\n",
        "# • o novo salário, após o aumento.\n",
        "\n",
        "\n",
        "salarioant=float(input(\"Digite o seu salário atual: \"))\n",
        "\n",
        "if salarioant <= 280:\n",
        "  calculo=(salarioant * 0.2)\n",
        "  salarioatu= salarioant + calculo\n",
        "  print(\"Seu salário anterior era de\",salarioant)\n",
        "  print(\"Foi aplicado um percentual de 20% \")\n",
        "  print(\"Com isso foi adicionado o valor de R$\",calculo)\n",
        "  print(\"E o seu novo salário será R$\",salarioatu)\n",
        "\n",
        "if salarioant > 280 and salarioant <= 700:\n",
        "  calculo=(salarioant * 0.15)\n",
        "  salarioatu= salarioant + calculo\n",
        "  print(\"Seu salário anterior era de R$\",salarioant)\n",
        "  print(\"Foi aplicado um percentual de 15% \")\n",
        "  print(\"Com isso foi adicionado o valor de R$\",calculo)\n",
        "  print(\"E o seu novo salário será R$\",salarioatu)\n",
        "\n",
        "if salarioant > 700 and salarioant <= 1500:\n",
        "  calculo=(salarioant * 0.10)\n",
        "  salarioatu= salarioant + calculo\n",
        "  print(\"Seu salário anterior era de R$\",salarioant)\n",
        "  print(\"Foi aplicado um percentual de 10% \")\n",
        "  print(\"Com isso foi adicionado o valor de R$\",calculo)\n",
        "  print(\"E o seu novo salário será R$\",salarioatu)\n",
        "\n",
        "if salarioant > 1500:\n",
        "  calculo=(salarioant * 0.05)\n",
        "  salarioatu= salarioant + calculo\n",
        "  print(\"Seu salário anterior era de R$\",salarioant)\n",
        "  print(\"Foi aplicado um percentual de 5% \") \n",
        "  print(\"Com isso foi adicionado o valor de R$\",calculo)\n",
        "  print(\"E o seu novo salário será R$\",salarioatu)\n"
      ],
      "metadata": {
        "id": "GZzU4GvpTXXn"
      },
      "execution_count": null,
      "outputs": []
    },
    {
      "cell_type": "code",
      "source": [
        "# 31º QUESTÃO - Faça um programa para o cálculo de uma folha de pagamento, sabendo que os descontos são do\n",
        "# Imposto de Renda, que depende do salário bruto (conforme tabela abaixo) e 3% para o Sindicato e\n",
        "# que o FGTS corresponde a 11% do Salário Bruto, mas não é descontado (é a empresa que deposita).\n",
        "# O Salário Líquido corresponde ao Salário Bruto menos os descontos. O programa deverá pedir ao\n",
        "# usuário o valor da sua hora e a quantidade de horas trabalhadas no mês.\n",
        "\n",
        "# Desconto do IR:\n",
        "# • Salário Bruto até 900 (inclusive) - isento\n",
        "# • Salário Bruto até 1500 (inclusive) - desconto de 5%\n",
        "# • Salário Bruto até 2500 (inclusive) - desconto de 10%\n",
        "\n",
        "# • Salário Bruto acima de 2500 - desconto de 20% Imprima na tela as informações, dispostas\n",
        "# conforme o exemplo abaixo. No exemplo o valor da hora é 5 e a quantidade de hora é 220.\n",
        "# Salário Bruto: (5 * 220) : R$ 1100,00\n",
        "# (-) IR (5%) : R$ 55,00\n",
        "# (-) INSS ( 10%) : R$ 110,00\n",
        "# FGTS (11%) : R$ 121,00\n",
        "# Total de descontos : R$ 165,00\n",
        "# Salário Liquido : R$ 935,00\n",
        "\n",
        "salariohora=float(input(\"Qual o seu salário por hora ? \"))\n",
        "horas=int(input(\"Quantas horas você trabalhou no mês ? \"))\n",
        "\n",
        "salariobruto= salariohora * horas\n",
        "\n",
        "if salariobruto > 900 and salariobruto <= 1500:\n",
        "  descontoir=(salariobruto * 0.05)\n",
        "  print(\"(-) IR (5%) : R$\",descontoir)\n",
        "if salariobruto > 1500 and salariobruto <= 2500:\n",
        "  descontoir=(salariobruto * 0.1)\n",
        "  print(\"(-) IR (10%) : R$\",descontoir)\n",
        "if salariobruto > 2500:\n",
        "  descontoir=(salariobruto * 0.2)\n",
        "  print(\"(-) IR (20%) : R$\",descontoir)\n",
        "\n",
        "INSS=(salariobruto * 0.1 )\n",
        "print(\"(-) INSS ( 10%) : R$\",INSS)\n",
        "\n",
        "FGTS=(salariobruto * 0.11)\n",
        "print(\"FGTS (11%) : R$\",FGTS)\n",
        "\n",
        "totaldesc= descontoir + INSS\n",
        "print(\"Total de descontos : R$\",totaldesc)\n",
        "\n",
        "salariototal=(salariobruto) - (descontoir + INSS)\n",
        "print(\"Salário Liquido : R$\",salariototal)\n",
        "\n",
        "\n",
        "\n",
        "\n",
        "\n"
      ],
      "metadata": {
        "id": "_HdRHcDAdXF8",
        "colab": {
          "base_uri": "https://localhost:8080/"
        },
        "outputId": "dc3aaa54-781b-476d-a5a5-5fadf1f6b476"
      },
      "execution_count": 4,
      "outputs": [
        {
          "output_type": "stream",
          "name": "stdout",
          "text": [
            "Qual o seu salário por hora ? 200\n",
            "Quantas horas você trabalhou no mês ? 50\n",
            "(-) IR (20%) : R$ 2000.0\n",
            "(-) INSS ( 10%) : R$ 1000.0\n",
            "FGTS (11%) : R$ 1100.0\n",
            "Total de descontos : R$ 3000.0\n",
            "Salário Liquido : R$ 7000.0\n"
          ]
        }
      ]
    },
    {
      "cell_type": "code",
      "source": [
        "# 32º QUESTÃO - Faça um programa que faça 5 perguntas para uma pessoa sobre um crime. As perguntas são:\n",
        "# a. \"Telefonou para a vítima?\"\n",
        "# b. \"Esteve no local do crime?\"\n",
        "# c. \"Mora perto da vítima?\"\n",
        "# d. \"Devia para a vítima?\"\n",
        "# e. \"Já trabalhou com a vítima?\"\n",
        "# O programa deve no final emitir uma classificação sobre a participação da pessoa no crime. Se a\n",
        "# pessoa responder positivamente a 2 questões ela deve ser classificada como \"Suspeita\", entre 3 e 4 \n",
        "# como \"Cúmplice\" e 5 como \"Assassino\". Caso contrário, ele será classificado como \"Inocente\".\n",
        "\n",
        "print(\"Responda as perguntas somente com 'Sim' ou 'Não'\")\n",
        "\n",
        "p1=str(input(\"Telefonou para a vítima?\"))\n",
        "p2=str(input(\"Mora perto da vítima?\"))\n",
        "p3=str(input(\"Esteve no local do crime?\"))\n",
        "p4=str(input(\"Devia para a vítima?\"))\n",
        "p5=str(input(\"Já trabalhou com a vítima?\"))\n",
        "\n",
        "respostas=[p1,p2,p3,p4,p5]\n",
        "\n",
        "if respostas.count(\"Sim\") == 2:\n",
        "  print(\"Você é suspeito\")\n",
        "\n",
        "if respostas.count(\"Sim\") == respostas.count(\"Sim\") == 4:\n",
        "  print(\"Você é cúmplice\")\n",
        "\n",
        "if respostas.count(\"Sim\") == 5:\n",
        "  print(\"Você é o assasino\")\n",
        "\n",
        "if respostas.count(\"Sim\") < 2:\n",
        "  print(\"Você é inocente\")    "
      ],
      "metadata": {
        "id": "3oY1mjm5fr-b"
      },
      "execution_count": null,
      "outputs": []
    },
    {
      "cell_type": "code",
      "source": [
        "# 33ºFaça um programa que cadastre o nome, a matrícula e duas notas de 13 alunos. Em seguida\n",
        "# imprima a matrícula, o nome e a média de cada um deles.\n",
        "\n",
        "qtd=2\n",
        "alunos={}\n",
        "aluno=0\n",
        "p=0\n",
        "\n",
        "for i in range (qtd):\n",
        "  aluno= aluno + 1\n",
        "  p= p + 1\n",
        "  nome=str(input(\"Digite o nome do %dº aluno\"%aluno))\n",
        "  alunos[\"nome%d\"%p]=nome\n",
        "  matrícula=int(input(\"Digite a matrícula de %s\"%nome))\n",
        "  alunos[\"matrícula%d\"%p]=matrícula\n",
        "  nota1=float(input(\"Digite a primeira nota de %s\"%nome))\n",
        "  nota2=float(input(\"Digite a segunda nota de %s\"%nome))\n",
        "\n",
        "  media= (nota1 + nota2) / 2\n",
        "  alunos[\"média%d\"%p]=media\n",
        "\n",
        "print(alunos)"
      ],
      "metadata": {
        "id": "AoynwhRUIzVl"
      },
      "execution_count": null,
      "outputs": []
    },
    {
      "cell_type": "code",
      "source": [
        "# 34) Faça um programa que cadastre o nome, a altura, o peso, o cpf e sexo de algumas pessoas. Com\n",
        "# os dados cadastrados, em seguida localizar uma pessoas através do seu CPF e imprimir o seu IMC.\n",
        "# Obs.: Solicitar ao usuário se deseja cadastrar mais pessoas ou parar.\n",
        "\n",
        "novocadastro=str(input(\"Deseja realizar um cadastro ? \"))\n",
        "nomes=[]\n",
        "alturas=[]\n",
        "pesos=[]\n",
        "cpfs=[]\n",
        "\n",
        "while novocadastro == \"sim\":\n",
        "    nome=str(input(\"Digite o nome: \"))\n",
        "    nomes.append(nome)\n",
        "    altura=float(input(\"Digite a altura: \"))\n",
        "    alturas.append(altura)\n",
        "    peso=float(input(\"Digite o peso: \"))\n",
        "    pesos.append(peso)\n",
        "    cpf=int(input(\"Digite o CPF(somente numeros): \"))\n",
        "    cpfs.append(cpf)\n",
        "\n",
        "    localizar=int(input(\"Digite um CPF cadastrado para localizar o nome e seu IMC: \"))\n",
        "    localização=cpfs.index(localizar)\n",
        "    print(\"Nome: \",(nomes[localização]))\n",
        "    localtura=alturas[localização]\n",
        "    locpeso=pesos[localização]\n",
        "    imc= (locpeso) / (localtura ** 2)\n",
        "    print(\"IMC: %f\"%imc,\"%\")\n",
        "\n",
        "    novocadastro=str(input(\"Deseja cadastrar uma nova pessoa ? \"))\n",
        "    if novocadastro == \"não\":\n",
        "        novalocaliza=str(input(\"Deseja localizar O IMC/nome de alguém?\"))\n",
        "        if novalocaliza == \"sim\":\n",
        "            localizar=int(input(\"Digite um CPF cadastrado para localizar o nome e seu IMC\"))\n",
        "            localização=cpfs.index(localizar)\n",
        "            print(\"Nome: \",(nomes[localização]))\n",
        "            localtura=alturas[localização]\n",
        "            locpeso=pesos[localização]\n",
        "            imc= (locpeso) / (localtura ** 2)\n",
        "            print(\"IMC: %f\"%imc,\"%\")\n",
        "        else:\n",
        "            print(\"Programa encerrado.\")\n",
        "\n",
        "\n",
        "\n",
        "\n"
      ],
      "metadata": {
        "id": "z5kusKmkVYmn"
      },
      "execution_count": null,
      "outputs": []
    }
  ]
}